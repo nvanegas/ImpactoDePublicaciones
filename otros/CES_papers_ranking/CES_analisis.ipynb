{
 "cells": [
  {
   "cell_type": "code",
   "execution_count": 1,
   "id": "26871f0b-d77a-4bd5-8e06-caa9480f92cd",
   "metadata": {},
   "outputs": [],
   "source": [
    "from pymongo import MongoClient\n",
    "from IPython.display import display, HTML, JSON\n",
    "import pandas as pd\n",
    "from joblib import Parallel, delayed\n",
    "import numpy as np\n",
    "import matplotlib.pyplot as plt\n",
    "import math"
   ]
  },
  {
   "cell_type": "code",
   "execution_count": 2,
   "id": "6735891f-e484-41ea-8cd0-57b2d33261f3",
   "metadata": {},
   "outputs": [],
   "source": [
    "sci_col = MongoClient()[\"scimago\"][\"stage\"]"
   ]
  },
  {
   "cell_type": "code",
   "execution_count": 3,
   "id": "31666973-2aeb-4d72-b085-986340a0de15",
   "metadata": {},
   "outputs": [],
   "source": [
    "#obtenemos todos los artículos por año para saber el ranking para el año específico\n",
    "#scores = []\n",
    "#for year in range(2013,2024):\n",
    "def process_sjr_year(year):\n",
    "    #year=2013\n",
    "    #print(year)\n",
    "    current_score = {}\n",
    "    current_score[\"year\"] = year\n",
    "    data = list(MongoClient()[\"openalex_udea\"][\"works\"].find({\"type\":\"article\",\"publication_year\":year,\"primary_location.source.issn\":{\"$ne\":None}}))\n",
    "    score=[]\n",
    "    for paper in data:\n",
    "        issns = paper[\"primary_location\"][\"source\"][\"issn\"]\n",
    "        for issn in issns:\n",
    "            issn = issn.replace(\"-\",\"\") ## scimago issn is not splitted by -\n",
    "            rec = sci_col.find_one({\"Issn\":issn})\n",
    "            if rec is not None:\n",
    "                if not np.isnan(rec['SJR']):\n",
    "                    score.append(rec['SJR'])\n",
    "                else:\n",
    "                    print(rec)\n",
    "    current_score[\"score\"] = score\n",
    "    current_score[\"data_len\"] = len(data)\n",
    "    current_score[\"score_len\"] = len(score)\n",
    "    return current_score"
   ]
  },
  {
   "cell_type": "code",
   "execution_count": 4,
   "id": "e816d5bb-c617-4c71-a916-08d11879b57b",
   "metadata": {},
   "outputs": [
    {
     "name": "stderr",
     "output_type": "stream",
     "text": [
      "/usr/lib/python3/dist-packages/pymongo/topology.py:161: UserWarning: MongoClient opened before fork. Create MongoClient only after forking. See PyMongo's documentation for details: https://pymongo.readthedocs.io/en/stable/faq.html#is-pymongo-fork-safe\n",
      "  warnings.warn(\n",
      "/usr/lib/python3/dist-packages/pymongo/topology.py:161: UserWarning: MongoClient opened before fork. Create MongoClient only after forking. See PyMongo's documentation for details: https://pymongo.readthedocs.io/en/stable/faq.html#is-pymongo-fork-safe\n",
      "  warnings.warn(\n",
      "/usr/lib/python3/dist-packages/pymongo/topology.py:161: UserWarning: MongoClient opened before fork. Create MongoClient only after forking. See PyMongo's documentation for details: https://pymongo.readthedocs.io/en/stable/faq.html#is-pymongo-fork-safe\n",
      "  warnings.warn(\n",
      "/usr/lib/python3/dist-packages/pymongo/topology.py:161: UserWarning: MongoClient opened before fork. Create MongoClient only after forking. See PyMongo's documentation for details: https://pymongo.readthedocs.io/en/stable/faq.html#is-pymongo-fork-safe\n",
      "  warnings.warn(\n",
      "/usr/lib/python3/dist-packages/pymongo/topology.py:161: UserWarning: MongoClient opened before fork. Create MongoClient only after forking. See PyMongo's documentation for details: https://pymongo.readthedocs.io/en/stable/faq.html#is-pymongo-fork-safe\n",
      "  warnings.warn(\n",
      "/usr/lib/python3/dist-packages/pymongo/topology.py:161: UserWarning: MongoClient opened before fork. Create MongoClient only after forking. See PyMongo's documentation for details: https://pymongo.readthedocs.io/en/stable/faq.html#is-pymongo-fork-safe\n",
      "  warnings.warn(\n",
      "/usr/lib/python3/dist-packages/pymongo/topology.py:161: UserWarning: MongoClient opened before fork. Create MongoClient only after forking. See PyMongo's documentation for details: https://pymongo.readthedocs.io/en/stable/faq.html#is-pymongo-fork-safe\n",
      "  warnings.warn(\n",
      "/usr/lib/python3/dist-packages/pymongo/topology.py:161: UserWarning: MongoClient opened before fork. Create MongoClient only after forking. See PyMongo's documentation for details: https://pymongo.readthedocs.io/en/stable/faq.html#is-pymongo-fork-safe\n",
      "  warnings.warn(\n",
      "/usr/lib/python3/dist-packages/pymongo/topology.py:161: UserWarning: MongoClient opened before fork. Create MongoClient only after forking. See PyMongo's documentation for details: https://pymongo.readthedocs.io/en/stable/faq.html#is-pymongo-fork-safe\n",
      "  warnings.warn(\n",
      "/usr/lib/python3/dist-packages/pymongo/topology.py:161: UserWarning: MongoClient opened before fork. Create MongoClient only after forking. See PyMongo's documentation for details: https://pymongo.readthedocs.io/en/stable/faq.html#is-pymongo-fork-safe\n",
      "  warnings.warn(\n",
      "/usr/lib/python3/dist-packages/pymongo/topology.py:161: UserWarning: MongoClient opened before fork. Create MongoClient only after forking. See PyMongo's documentation for details: https://pymongo.readthedocs.io/en/stable/faq.html#is-pymongo-fork-safe\n",
      "  warnings.warn(\n",
      "[Parallel(n_jobs=11)]: Using backend MultiprocessingBackend with 11 concurrent workers.\n",
      "[Parallel(n_jobs=11)]: Done   2 out of  11 | elapsed:    2.9s remaining:   12.9s\n",
      "[Parallel(n_jobs=11)]: Done   4 out of  11 | elapsed:    3.5s remaining:    6.1s\n",
      "[Parallel(n_jobs=11)]: Done   6 out of  11 | elapsed:    7.2s remaining:    6.0s\n",
      "[Parallel(n_jobs=11)]: Done   8 out of  11 | elapsed:   12.8s remaining:    4.8s\n"
     ]
    },
    {
     "name": "stdout",
     "output_type": "stream",
     "text": [
      "CPU times: user 56.8 ms, sys: 38.4 ms, total: 95.2 ms\n",
      "Wall time: 29 s\n"
     ]
    },
    {
     "name": "stderr",
     "output_type": "stream",
     "text": [
      "[Parallel(n_jobs=11)]: Done  11 out of  11 | elapsed:   28.9s finished\n"
     ]
    }
   ],
   "source": [
    "%%time\n",
    "scores = Parallel(n_jobs=11,backend=\"multiprocessing\",verbose=10)(delayed(process_sjr_year)(year) for year in range(2013,2024))"
   ]
  },
  {
   "cell_type": "code",
   "execution_count": 5,
   "id": "dd7c1a9c",
   "metadata": {},
   "outputs": [],
   "source": [
    "#h_scores = []\n",
    "#for year in range(2013,2024):\n",
    "def process_h_index_year(year):\n",
    "    #year=2013\n",
    "    #print(year)\n",
    "    current_h_score = {}\n",
    "    current_h_score[\"year\"] = year\n",
    "    h_data = list(MongoClient()[\"openalex_udea\"][\"works\"].find({\"type\":\"article\",\"publication_year\":year,\"primary_location.source.issn\":{\"$ne\":None}}))\n",
    "    h_score=[]\n",
    "    for paper in h_data:\n",
    "        issns = paper[\"primary_location\"][\"source\"][\"issn\"]\n",
    "        for issn in issns:\n",
    "            issn = issn.replace(\"-\",\"\") ## scimago issn is not splitted by -\n",
    "            rec = sci_col.find_one({\"Issn\":issn})\n",
    "            if rec is not None:\n",
    "                if not np.isnan(rec['H index']):\n",
    "                    h_score.append(rec['H index'])\n",
    "                else:\n",
    "                    print(rec)\n",
    "    current_h_score[\"h_score\"] = h_score\n",
    "    current_h_score[\"h_data_len\"] = len(h_data)\n",
    "    current_h_score[\"h_score_len\"] = len(h_score)\n",
    "    return current_h_score\n",
    "    #h_scores.append(current_h_score)"
   ]
  },
  {
   "cell_type": "code",
   "execution_count": 6,
   "id": "19749b07-63ef-4211-a046-0c76fe62803f",
   "metadata": {},
   "outputs": [
    {
     "name": "stderr",
     "output_type": "stream",
     "text": [
      "/usr/lib/python3/dist-packages/pymongo/topology.py:161: UserWarning: MongoClient opened before fork. Create MongoClient only after forking. See PyMongo's documentation for details: https://pymongo.readthedocs.io/en/stable/faq.html#is-pymongo-fork-safe\n",
      "  warnings.warn(\n",
      "/usr/lib/python3/dist-packages/pymongo/topology.py:161: UserWarning: MongoClient opened before fork. Create MongoClient only after forking. See PyMongo's documentation for details: https://pymongo.readthedocs.io/en/stable/faq.html#is-pymongo-fork-safe\n",
      "  warnings.warn(\n",
      "/usr/lib/python3/dist-packages/pymongo/topology.py:161: UserWarning: MongoClient opened before fork. Create MongoClient only after forking. See PyMongo's documentation for details: https://pymongo.readthedocs.io/en/stable/faq.html#is-pymongo-fork-safe\n",
      "  warnings.warn(\n",
      "/usr/lib/python3/dist-packages/pymongo/topology.py:161: UserWarning: MongoClient opened before fork. Create MongoClient only after forking. See PyMongo's documentation for details: https://pymongo.readthedocs.io/en/stable/faq.html#is-pymongo-fork-safe\n",
      "  warnings.warn(\n",
      "/usr/lib/python3/dist-packages/pymongo/topology.py:161: UserWarning: MongoClient opened before fork. Create MongoClient only after forking. See PyMongo's documentation for details: https://pymongo.readthedocs.io/en/stable/faq.html#is-pymongo-fork-safe\n",
      "  warnings.warn(\n",
      "/usr/lib/python3/dist-packages/pymongo/topology.py:161: UserWarning: MongoClient opened before fork. Create MongoClient only after forking. See PyMongo's documentation for details: https://pymongo.readthedocs.io/en/stable/faq.html#is-pymongo-fork-safe\n",
      "  warnings.warn(\n",
      "/usr/lib/python3/dist-packages/pymongo/topology.py:161: UserWarning: MongoClient opened before fork. Create MongoClient only after forking. See PyMongo's documentation for details: https://pymongo.readthedocs.io/en/stable/faq.html#is-pymongo-fork-safe\n",
      "  warnings.warn(\n",
      "/usr/lib/python3/dist-packages/pymongo/topology.py:161: UserWarning: MongoClient opened before fork. Create MongoClient only after forking. See PyMongo's documentation for details: https://pymongo.readthedocs.io/en/stable/faq.html#is-pymongo-fork-safe\n",
      "  warnings.warn(\n",
      "/usr/lib/python3/dist-packages/pymongo/topology.py:161: UserWarning: MongoClient opened before fork. Create MongoClient only after forking. See PyMongo's documentation for details: https://pymongo.readthedocs.io/en/stable/faq.html#is-pymongo-fork-safe\n",
      "  warnings.warn(\n",
      "/usr/lib/python3/dist-packages/pymongo/topology.py:161: UserWarning: MongoClient opened before fork. Create MongoClient only after forking. See PyMongo's documentation for details: https://pymongo.readthedocs.io/en/stable/faq.html#is-pymongo-fork-safe\n",
      "  warnings.warn(\n",
      "/usr/lib/python3/dist-packages/pymongo/topology.py:161: UserWarning: MongoClient opened before fork. Create MongoClient only after forking. See PyMongo's documentation for details: https://pymongo.readthedocs.io/en/stable/faq.html#is-pymongo-fork-safe\n",
      "  warnings.warn(\n",
      "[Parallel(n_jobs=11)]: Using backend MultiprocessingBackend with 11 concurrent workers.\n",
      "[Parallel(n_jobs=11)]: Done   2 out of  11 | elapsed:    3.5s remaining:   15.8s\n",
      "[Parallel(n_jobs=11)]: Done   4 out of  11 | elapsed:    3.7s remaining:    6.4s\n",
      "[Parallel(n_jobs=11)]: Done   6 out of  11 | elapsed:    6.8s remaining:    5.6s\n",
      "[Parallel(n_jobs=11)]: Done   8 out of  11 | elapsed:   13.1s remaining:    4.9s\n"
     ]
    },
    {
     "name": "stdout",
     "output_type": "stream",
     "text": [
      "CPU times: user 47.6 ms, sys: 59.4 ms, total: 107 ms\n",
      "Wall time: 30.7 s\n"
     ]
    },
    {
     "name": "stderr",
     "output_type": "stream",
     "text": [
      "[Parallel(n_jobs=11)]: Done  11 out of  11 | elapsed:   30.6s finished\n"
     ]
    }
   ],
   "source": [
    "%%time\n",
    "h_scores = Parallel(n_jobs=11,backend=\"multiprocessing\",verbose=10)(delayed(process_h_index_year)(year) for year in range(2013,2024))"
   ]
  },
  {
   "cell_type": "code",
   "execution_count": 7,
   "id": "3092df35",
   "metadata": {},
   "outputs": [
    {
     "name": "stdout",
     "output_type": "stream",
     "text": [
      "2013 = 0 / 53\n",
      "2014 = 0 / 31\n",
      "2015 = 0 / 44\n",
      "2016 = 0 / 36\n",
      "2017 = 0 / 91\n",
      "2018 = 0 / 88\n",
      "2019 = 0 / 119\n",
      "2020 = 0 / 167\n",
      "2021 = 0 / 125\n",
      "2022 = 0 / 139\n",
      "2023 = 0 / 297\n"
     ]
    }
   ],
   "source": [
    "# 2013 = 337 / 1425\n",
    "# 2014 = 252 / 1366\n",
    "# 2015 = 318 / 1513\n",
    "# 2016 = 237 / 1573\n",
    "# 2017 = 322 / 1720\n",
    "# 2018 = 282 / 1781\n",
    "# 2019 = 320 / 1886\n",
    "# 2020 = 389 / 2163\n",
    "# 2021 = 370 / 2176\n",
    "# 2022 = 465 / 2240\n",
    "# 2023 = 496 / 2011\n",
    "\n",
    "for i in scores:\n",
    "    data = np.array(i[\"score\"])\n",
    "    nans = np.count_nonzero(np.isnan(data))\n",
    "    print(f\"{i['year']} = {nans} / {len(data)}\")\n"
   ]
  },
  {
   "cell_type": "code",
   "execution_count": 8,
   "id": "bb1e8fa1",
   "metadata": {},
   "outputs": [
    {
     "name": "stdout",
     "output_type": "stream",
     "text": [
      "2013 = 0 / 53\n",
      "2014 = 0 / 31\n",
      "2015 = 0 / 44\n",
      "2016 = 0 / 36\n",
      "2017 = 0 / 91\n",
      "2018 = 0 / 88\n",
      "2019 = 0 / 119\n",
      "2020 = 0 / 167\n",
      "2021 = 0 / 125\n",
      "2022 = 0 / 139\n",
      "2023 = 0 / 297\n"
     ]
    }
   ],
   "source": [
    "for i in h_scores:\n",
    "    h_data = np.array(i[\"h_score\"])\n",
    "    h_nans = np.count_nonzero(np.isnan(h_data))\n",
    "    print(f\"{i['year']} = {h_nans} / {len(h_data)}\")\n"
   ]
  },
  {
   "cell_type": "code",
   "execution_count": 9,
   "id": "d311343b-a0d6-426f-a15e-0c431e0e3b70",
   "metadata": {},
   "outputs": [
    {
     "name": "stdout",
     "output_type": "stream",
     "text": [
      "year = 2013\n",
      "min  = 0.145\n",
      "max  = 5.166\n",
      "----------\n",
      "year = 2014\n",
      "min  = 0.114\n",
      "max  = 1.795\n",
      "----------\n",
      "year = 2015\n",
      "min  = 0.13\n",
      "max  = 3.168\n",
      "----------\n",
      "year = 2016\n",
      "min  = 0.117\n",
      "max  = 9.281\n",
      "----------\n",
      "year = 2017\n",
      "min  = 0.102\n",
      "max  = 8.409\n",
      "----------\n",
      "year = 2018\n",
      "min  = 0.105\n",
      "max  = 4.698\n",
      "----------\n",
      "year = 2019\n",
      "min  = 0.102\n",
      "max  = 8.409\n",
      "----------\n",
      "year = 2020\n",
      "min  = 0.105\n",
      "max  = 8.409\n",
      "----------\n",
      "year = 2021\n",
      "min  = 0.122\n",
      "max  = 5.166\n",
      "----------\n",
      "year = 2022\n",
      "min  = 0.101\n",
      "max  = 8.389\n",
      "----------\n",
      "year = 2023\n",
      "min  = 0.101\n",
      "max  = 6.997\n",
      "----------\n"
     ]
    }
   ],
   "source": [
    "for score in scores:\n",
    "    print(f\"year = {score['year']}\")\n",
    "    print(f\"min  = {np.min(score['score'])}\")\n",
    "    print(f\"max  = {np.max(score['score'])}\")\n",
    "    print(\"-\"*10)\n",
    "    "
   ]
  },
  {
   "cell_type": "code",
   "execution_count": 10,
   "id": "bb43e5e1",
   "metadata": {},
   "outputs": [
    {
     "name": "stdout",
     "output_type": "stream",
     "text": [
      "year = 2013\n",
      "min  = 6\n",
      "max  = 272\n",
      "----------\n",
      "year = 2014\n",
      "min  = 6\n",
      "max  = 211\n",
      "----------\n",
      "year = 2015\n",
      "min  = 6\n",
      "max  = 232\n",
      "----------\n",
      "year = 2016\n",
      "min  = 21\n",
      "max  = 472\n",
      "----------\n",
      "year = 2017\n",
      "min  = 0\n",
      "max  = 600\n",
      "----------\n",
      "year = 2018\n",
      "min  = 0\n",
      "max  = 404\n",
      "----------\n",
      "year = 2019\n",
      "min  = 3\n",
      "max  = 396\n",
      "----------\n",
      "year = 2020\n",
      "min  = 1\n",
      "max  = 506\n",
      "----------\n",
      "year = 2021\n",
      "min  = 0\n",
      "max  = 404\n",
      "----------\n",
      "year = 2022\n",
      "min  = 2\n",
      "max  = 600\n",
      "----------\n",
      "year = 2023\n",
      "min  = 4\n",
      "max  = 329\n",
      "----------\n"
     ]
    }
   ],
   "source": [
    "for h_score in h_scores:\n",
    "    print(f\"year = {h_score['year']}\")\n",
    "    print(f\"min  = {np.min(h_score['h_score'])}\")\n",
    "    print(f\"max  = {np.max(h_score['h_score'])}\")\n",
    "    print(\"-\"*10)"
   ]
  },
  {
   "cell_type": "code",
   "execution_count": 11,
   "id": "9f16ff8c",
   "metadata": {},
   "outputs": [],
   "source": [
    "for i in range(len(scores)):\n",
    "    x = np.array(scores[i][\"score\"])\n",
    "    scores[i][\"score\"] = x[~np.isnan(x)]\n",
    " "
   ]
  },
  {
   "cell_type": "code",
   "execution_count": 12,
   "id": "c341b4ea",
   "metadata": {},
   "outputs": [],
   "source": [
    "for i in range(len(h_scores)):\n",
    "    y = np.array(h_scores[i][\"h_score\"])\n",
    "    h_scores[i][\"h_score\"] = y[~np.isnan(y)]\n",
    " "
   ]
  },
  {
   "cell_type": "code",
   "execution_count": 13,
   "id": "0adced22-1735-42d6-8404-b905c01d22e1",
   "metadata": {},
   "outputs": [
    {
     "data": {
      "text/plain": [
       "{' 0  <= JSR < 2 ': [17, 22, 22, 19, 45, 47, 83, 117, 89, 114, 222],\n",
       " ' 2  <= JSR < 5 ': [34, 9, 22, 15, 36, 41, 34, 34, 28, 23, 73],\n",
       " ' 5 <= JSR < 10 ': [2, 0, 0, 2, 10, 0, 2, 16, 8, 2, 2],\n",
       " ' 10  <= JSR < 20 ': [0, 0, 0, 0, 0, 0, 0, 0, 0, 0, 0],\n",
       " ' JSR >= 20 ': [0, 0, 0, 0, 0, 0, 0, 0, 0, 0, 0]}"
      ]
     },
     "execution_count": 13,
     "metadata": {},
     "output_type": "execute_result"
    }
   ],
   "source": [
    "thold=200\n",
    "years = []\n",
    "payload = {}\n",
    "#payload[\"papers\"]=[]\n",
    "payload[f\" 0  <= JSR < 2 \"]=[]\n",
    "payload[f\" 2  <= JSR < 5 \"]=[]\n",
    "payload[f\" 5 <= JSR < 10 \"]=[]\n",
    "payload[f\" 10  <= JSR < 20 \"]=[]\n",
    "payload[f\" JSR >= 20 \"]=[]\n",
    "\n",
    "\n",
    "\n",
    "for score in scores:\n",
    "    years.append(str(score[\"year\"]))\n",
    "    #payload[\"papers\"].append(score[\"data_len\"])\n",
    "    counter = {}\n",
    "    counter[f\" 0  <= JSR < 2 \"]=0\n",
    "    counter[f\" 2  <= JSR < 5 \"]=0\n",
    "    counter[f\" 5 <= JSR < 10 \"]=0\n",
    "    counter[f\" 10  <= JSR < 20 \"]=0\n",
    "    counter[f\" JSR >= 20 \"]=0\n",
    "\n",
    "    for i in score['score']:\n",
    "        if i >= 0 and i < 1 :\n",
    "            counter[f\" 0  <= JSR < 2 \"] += 1\n",
    "        if i >= 1 and i < 5:\n",
    "            counter[f\" 2  <= JSR < 5 \"] += 1\n",
    "        if i >= 5  and i < 15:\n",
    "            counter[f\" 5 <= JSR < 10 \"] += 1\n",
    "        if i >=15 and i < 20:\n",
    "            counter[f\" 10  <= JSR < 20 \"] += 1\n",
    "        if i>=20:\n",
    "            counter[f\" JSR >= 20 \"] += 1\n",
    "            \n",
    "    payload[f\" 0  <= JSR < 2 \"].append(counter[f\" 0  <= JSR < 2 \"])\n",
    "    payload[f\" 2  <= JSR < 5 \"].append(counter[f\" 2  <= JSR < 5 \"])\n",
    "    payload[f\" 5 <= JSR < 10 \"].append(counter[f\" 5 <= JSR < 10 \"])\n",
    "    payload[f\" 10  <= JSR < 20 \"].append(counter[f\" 10  <= JSR < 20 \"])\n",
    "    payload[f\" JSR >= 20 \"].append(counter[f\" JSR >= 20 \"])\n",
    "payload"
   ]
  },
  {
   "cell_type": "code",
   "execution_count": 14,
   "id": "533a533e",
   "metadata": {},
   "outputs": [
    {
     "data": {
      "text/plain": [
       "{' 0  <= H index < 20 ': [9, 9, 10, 0, 12, 9, 17, 22, 14, 28, 31],\n",
       " ' 20  <= H index < 50 ': [4, 4, 10, 10, 14, 19, 33, 39, 43, 41, 54],\n",
       " ' 50 <= H index < 100 ': [2, 6, 5, 9, 21, 21, 39, 56, 42, 45, 117],\n",
       " ' 100  <= H index < 200 ': [34, 10, 13, 9, 20, 21, 24, 26, 17, 16, 85],\n",
       " ' H index >= 200 ': [4, 2, 6, 8, 24, 18, 6, 24, 9, 9, 10]}"
      ]
     },
     "execution_count": 14,
     "metadata": {},
     "output_type": "execute_result"
    }
   ],
   "source": [
    "thold=200\n",
    "h_years = []\n",
    "h_payload = {}\n",
    "#payload[\"papers\"]=[]\n",
    "h_payload[f\" 0  <= H index < 20 \"]=[]\n",
    "h_payload[f\" 20  <= H index < 50 \"]=[]\n",
    "h_payload[f\" 50 <= H index < 100 \"]=[]\n",
    "h_payload[f\" 100  <= H index < 200 \"]=[]\n",
    "h_payload[f\" H index >= 200 \"]=[]\n",
    "\n",
    "\n",
    "\n",
    "for h_score in h_scores:\n",
    "    h_years.append(str(h_score[\"year\"]))\n",
    "    #payload[\"papers\"].append(score[\"data_len\"])\n",
    "    h_counter = {}\n",
    "    h_counter[f\" 0  <= H index < 20 \"]=0\n",
    "    h_counter[f\" 20  <= H index < 50 \"]=0\n",
    "    h_counter[f\" 50 <= H index < 100 \"]=0\n",
    "    h_counter[f\" 100  <= H index < 200 \"]=0\n",
    "    h_counter[f\" H index >= 200 \"]=0\n",
    "\n",
    "    for i in h_score['h_score']:\n",
    "        if i >= 0 and i < 20 :\n",
    "            h_counter[f\" 0  <= H index < 20 \"] += 1\n",
    "        if i >= 20 and i < 50:\n",
    "            h_counter[f\" 20  <= H index < 50 \"] += 1\n",
    "        if i >= 50  and i < 100:\n",
    "            h_counter[f\" 50 <= H index < 100 \"] += 1\n",
    "        if i >=100 and i < 200:\n",
    "            h_counter[f\" 100  <= H index < 200 \"] += 1\n",
    "        if i >= 200:\n",
    "            h_counter[f\" H index >= 200 \"] += 1\n",
    "            \n",
    "    h_payload[f\" 0  <= H index < 20 \"].append(h_counter[f\" 0  <= H index < 20 \"])\n",
    "    h_payload[f\" 20  <= H index < 50 \"].append(h_counter[f\" 20  <= H index < 50 \"])\n",
    "    h_payload[f\" 50 <= H index < 100 \"].append(h_counter[f\" 50 <= H index < 100 \"])\n",
    "    h_payload[f\" 100  <= H index < 200 \"].append(h_counter[f\" 100  <= H index < 200 \"])\n",
    "    h_payload[f\" H index >= 200 \"].append(h_counter[f\" H index >= 200 \"])\n",
    "h_payload"
   ]
  },
  {
   "cell_type": "code",
   "execution_count": 18,
   "id": "63810829-de21-44ce-a16e-8d04ab6f3d7c",
   "metadata": {},
   "outputs": [
    {
     "data": {
      "image/png": "[encoded data removed]",
      "text/plain": [
       "<Figure size 1000x500 with 1 Axes>"
      ]
     },
     "metadata": {},
     "output_type": "display_data"
    }
   ],
   "source": [
    "\n",
    "width = 0.8  # the width of the bars: can also be len(x) sequence\n",
    "\n",
    "\n",
    "fig, ax = plt.subplots(figsize=(10, 5))\n",
    "bottom = np.zeros(11)\n",
    "\n",
    "for title, count in payload.items():\n",
    "    p = ax.bar(years, count, width, label=title, bottom=bottom)\n",
    "    bottom += count\n",
    "\n",
    "    ax.bar_label(p, label_type='center')\n",
    "plt.margins(0.05)\n",
    "ax.set_title('Number high quality paper')\n",
    "ax.legend()\n",
    "\n",
    "plt.show()"
   ]
  },
  {
   "cell_type": "code",
   "execution_count": 19,
   "id": "d4f0ab0a",
   "metadata": {},
   "outputs": [
    {
     "data": {
      "image/png": "[encoded data removed]",
      "text/plain": [
       "<Figure size 1000x500 with 1 Axes>"
      ]
     },
     "metadata": {},
     "output_type": "display_data"
    }
   ],
   "source": [
    "\n",
    "width = 0.8  # the width of the bars: can also be len(x) sequence\n",
    "\n",
    "\n",
    "fig, ay = plt.subplots(figsize=(10, 5))\n",
    "bottom = np.zeros(11)\n",
    "\n",
    "for title, h_count in h_payload.items():\n",
    "    h_p = ay.bar(h_years, h_count, width, label=title, bottom=bottom)\n",
    "    bottom += h_count\n",
    "\n",
    "    ay.bar_label(h_p, label_type='center')\n",
    "plt.margins(0.05)\n",
    "ay.set_title('Number high quality paper')\n",
    "ay.legend()\n",
    "\n",
    "plt.show()"
   ]
  },
  {
   "cell_type": "code",
   "execution_count": 17,
   "id": "d2d0181f-2ff7-45e3-9878-b11f76328771",
   "metadata": {},
   "outputs": [
    {
     "data": {
      "image/png": "[encoded data removed]",
      "text/plain": [
       "<Figure size 1000x500 with 1 Axes>"
      ]
     },
     "metadata": {},
     "output_type": "display_data"
    }
   ],
   "source": [
    "del payload[f\" 0  <= JSR < 2 \"]\n",
    "del payload[f\" 10  <= JSR < 20 \"]\n",
    "del payload[f\" JSR >= 20 \"]\n",
    "\n",
    "width = 0.8  # the width of the bars: can also be len(x) sequence\n",
    "\n",
    "\n",
    "fig, ax = plt.subplots(figsize=(10, 5))\n",
    "bottom = np.zeros(11)\n",
    "\n",
    "for title, count in payload.items():\n",
    "    p = ax.bar(years, count, width, label=title, bottom=bottom)\n",
    "    bottom += count\n",
    "\n",
    "    ax.bar_label(p, label_type='center')\n",
    "\n",
    "ax.set_title('Number high quality paper')\n",
    "ax.legend()\n",
    "\n",
    "plt.show()"
   ]
  },
  {
   "cell_type": "code",
   "execution_count": null,
   "id": "eed22a1e",
   "metadata": {},
   "outputs": [],
   "source": []
  },
  {
   "cell_type": "code",
   "execution_count": null,
   "id": "4d92306f-46e0-4604-ade0-5990dd02f1cb",
   "metadata": {},
   "outputs": [],
   "source": []
  },
  {
   "cell_type": "code",
   "execution_count": null,
   "id": "17f858bc-a76d-44b4-b806-a0f861a6bf62",
   "metadata": {},
   "outputs": [],
   "source": []
  },
  {
   "cell_type": "code",
   "execution_count": null,
   "id": "269e6d36-0b2e-47c1-be23-c514c61a93a4",
   "metadata": {},
   "outputs": [],
   "source": []
  }
 ],
 "metadata": {
  "kernelspec": {
   "display_name": "Python 3 (ipykernel)",
   "language": "python",
   "name": "python3"
  },
  "language_info": {
   "codemirror_mode": {
    "name": "ipython",
    "version": 3
   },
   "file_extension": ".py",
   "mimetype": "text/x-python",
   "name": "python",
   "nbconvert_exporter": "python",
   "pygments_lexer": "ipython3",
   "version": "3.11.6"
  }
 },
 "nbformat": 4,
 "nbformat_minor": 5
}
