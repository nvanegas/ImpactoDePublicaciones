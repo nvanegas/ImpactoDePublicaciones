{
 "cells": [
  {
   "cell_type": "code",
   "execution_count": 1,
   "id": "26871f0b-d77a-4bd5-8e06-caa9480f92cd",
   "metadata": {},
   "outputs": [],
   "source": [
    "from pymongo import MongoClient\n",
    "from IPython.display import display, HTML, JSON\n",
    "import pandas as pd\n",
    "from joblib import Parallel, delayed\n",
    "import numpy as np\n",
    "import matplotlib.pyplot as plt\n",
    "import math"
   ]
  },
  {
   "cell_type": "code",
   "execution_count": 2,
   "id": "6735891f-e484-41ea-8cd0-57b2d33261f3",
   "metadata": {},
   "outputs": [],
   "source": [
    "sci_col = MongoClient()[\"scimago\"][\"stage\"]"
   ]
  },
  {
   "cell_type": "code",
   "execution_count": 3,
   "id": "31666973-2aeb-4d72-b085-986340a0de15",
   "metadata": {},
   "outputs": [],
   "source": [
    "#obtenemos todos los artículos por año para saber el ranking para el año específico\n",
    "#scores = []\n",
    "#for year in range(2013,2024):\n",
    "def process_sjr_year(year):\n",
    "    #year=2013\n",
    "    #print(year)\n",
    "    current_score = {}\n",
    "    current_score[\"year\"] = year\n",
    "    data = list(MongoClient()[\"openalex_udea\"][\"works\"].find({\"type\":\"article\",\"publication_year\":year,\"primary_location.source.issn\":{\"$ne\":None}}))\n",
    "    score=[]\n",
    "    for paper in data:\n",
    "        issns = paper[\"primary_location\"][\"source\"][\"issn\"]\n",
    "        for issn in issns:\n",
    "            issn = issn.replace(\"-\",\"\") ## scimago issn is not splitted by -\n",
    "            rec = sci_col.find_one({\"Issn\":issn})\n",
    "            if rec is not None:\n",
    "                if not np.isnan(rec['SJR']):\n",
    "                    score.append(rec['SJR'])\n",
    "                else:\n",
    "                    print(rec)\n",
    "    current_score[\"score\"] = score\n",
    "    current_score[\"data_len\"] = len(data)\n",
    "    current_score[\"score_len\"] = len(score)\n",
    "    return current_score"
   ]
  },
  {
   "cell_type": "code",
   "execution_count": 4,
   "id": "e816d5bb-c617-4c71-a916-08d11879b57b",
   "metadata": {
    "scrolled": true
   },
   "outputs": [
    {
     "name": "stderr",
     "output_type": "stream",
     "text": [
      "[Parallel(n_jobs=11)]: Using backend MultiprocessingBackend with 11 concurrent workers.\n",
      "/usr/lib/python3/dist-packages/pymongo/topology.py:161: UserWarning: MongoClient opened before fork. Create MongoClient only after forking. See PyMongo's documentation for details: https://pymongo.readthedocs.io/en/stable/faq.html#is-pymongo-fork-safe\n",
      "  warnings.warn(\n",
      "/usr/lib/python3/dist-packages/pymongo/topology.py:161: UserWarning: MongoClient opened before fork. Create MongoClient only after forking. See PyMongo's documentation for details: https://pymongo.readthedocs.io/en/stable/faq.html#is-pymongo-fork-safe\n",
      "  warnings.warn(\n",
      "/usr/lib/python3/dist-packages/pymongo/topology.py:161: UserWarning: MongoClient opened before fork. Create MongoClient only after forking. See PyMongo's documentation for details: https://pymongo.readthedocs.io/en/stable/faq.html#is-pymongo-fork-safe\n",
      "  warnings.warn(\n",
      "/usr/lib/python3/dist-packages/pymongo/topology.py:161: UserWarning: MongoClient opened before fork. Create MongoClient only after forking. See PyMongo's documentation for details: https://pymongo.readthedocs.io/en/stable/faq.html#is-pymongo-fork-safe\n",
      "  warnings.warn(\n",
      "/usr/lib/python3/dist-packages/pymongo/topology.py:161: UserWarning: MongoClient opened before fork. Create MongoClient only after forking. See PyMongo's documentation for details: https://pymongo.readthedocs.io/en/stable/faq.html#is-pymongo-fork-safe\n",
      "  warnings.warn(\n",
      "/usr/lib/python3/dist-packages/pymongo/topology.py:161: UserWarning: MongoClient opened before fork. Create MongoClient only after forking. See PyMongo's documentation for details: https://pymongo.readthedocs.io/en/stable/faq.html#is-pymongo-fork-safe\n",
      "  warnings.warn(\n",
      "/usr/lib/python3/dist-packages/pymongo/topology.py:161: UserWarning: MongoClient opened before fork. Create MongoClient only after forking. See PyMongo's documentation for details: https://pymongo.readthedocs.io/en/stable/faq.html#is-pymongo-fork-safe\n",
      "  warnings.warn(\n",
      "/usr/lib/python3/dist-packages/pymongo/topology.py:161: UserWarning: MongoClient opened before fork. Create MongoClient only after forking. See PyMongo's documentation for details: https://pymongo.readthedocs.io/en/stable/faq.html#is-pymongo-fork-safe\n",
      "  warnings.warn(\n",
      "/usr/lib/python3/dist-packages/pymongo/topology.py:161: UserWarning: MongoClient opened before fork. Create MongoClient only after forking. See PyMongo's documentation for details: https://pymongo.readthedocs.io/en/stable/faq.html#is-pymongo-fork-safe\n",
      "  warnings.warn(\n",
      "/usr/lib/python3/dist-packages/pymongo/topology.py:161: UserWarning: MongoClient opened before fork. Create MongoClient only after forking. See PyMongo's documentation for details: https://pymongo.readthedocs.io/en/stable/faq.html#is-pymongo-fork-safe\n",
      "  warnings.warn(\n",
      "/usr/lib/python3/dist-packages/pymongo/topology.py:161: UserWarning: MongoClient opened before fork. Create MongoClient only after forking. See PyMongo's documentation for details: https://pymongo.readthedocs.io/en/stable/faq.html#is-pymongo-fork-safe\n",
      "  warnings.warn(\n",
      "[Parallel(n_jobs=11)]: Done   2 out of  11 | elapsed:  9.6min remaining: 43.1min\n",
      "[Parallel(n_jobs=11)]: Done   4 out of  11 | elapsed:  9.9min remaining: 17.3min\n",
      "[Parallel(n_jobs=11)]: Done   6 out of  11 | elapsed: 10.3min remaining:  8.5min\n",
      "[Parallel(n_jobs=11)]: Done   8 out of  11 | elapsed: 10.5min remaining:  3.9min\n"
     ]
    },
    {
     "name": "stdout",
     "output_type": "stream",
     "text": [
      "CPU times: user 174 ms, sys: 102 ms, total: 276 ms\n",
      "Wall time: 10min 45s\n"
     ]
    },
    {
     "name": "stderr",
     "output_type": "stream",
     "text": [
      "[Parallel(n_jobs=11)]: Done  11 out of  11 | elapsed: 10.8min finished\n"
     ]
    }
   ],
   "source": [
    "%%time\n",
    "scores = Parallel(n_jobs=11,backend=\"multiprocessing\",verbose=10)(delayed(process_sjr_year)(year) for year in range(2013,2024))"
   ]
  },
  {
   "cell_type": "code",
   "execution_count": 5,
   "id": "dd7c1a9c",
   "metadata": {},
   "outputs": [],
   "source": [
    "#h_scores = []\n",
    "#for year in range(2013,2024):\n",
    "def process_h_index_year(year):\n",
    "    #year=2013\n",
    "    #print(year)\n",
    "    current_h_score = {}\n",
    "    current_h_score[\"year\"] = year\n",
    "    h_data = list(MongoClient()[\"openalex_udea\"][\"works\"].find({\"type\":\"article\",\"publication_year\":year,\"primary_location.source.issn\":{\"$ne\":None}}))\n",
    "    h_score=[]\n",
    "    for paper in h_data:\n",
    "        issns = paper[\"primary_location\"][\"source\"][\"issn\"]\n",
    "        for issn in issns:\n",
    "            issn = issn.replace(\"-\",\"\") ## scimago issn is not splitted by -\n",
    "            rec = sci_col.find_one({\"Issn\":issn})\n",
    "            if rec is not None:\n",
    "                if not np.isnan(rec['H index']):\n",
    "                    h_score.append(rec['H index'])\n",
    "                else:\n",
    "                    print(rec)\n",
    "    current_h_score[\"h_score\"] = h_score\n",
    "    current_h_score[\"h_data_len\"] = len(h_data)\n",
    "    current_h_score[\"h_score_len\"] = len(h_score)\n",
    "    return current_h_score\n",
    "    #h_scores.append(current_h_score)"
   ]
  },
  {
   "cell_type": "code",
   "execution_count": 6,
   "id": "19749b07-63ef-4211-a046-0c76fe62803f",
   "metadata": {},
   "outputs": [
    {
     "name": "stderr",
     "output_type": "stream",
     "text": [
      "[Parallel(n_jobs=11)]: Using backend MultiprocessingBackend with 11 concurrent workers.\n",
      "/usr/lib/python3/dist-packages/pymongo/topology.py:161: UserWarning: MongoClient opened before fork. Create MongoClient only after forking. See PyMongo's documentation for details: https://pymongo.readthedocs.io/en/stable/faq.html#is-pymongo-fork-safe\n",
      "  warnings.warn(\n",
      "/usr/lib/python3/dist-packages/pymongo/topology.py:161: UserWarning: MongoClient opened before fork. Create MongoClient only after forking. See PyMongo's documentation for details: https://pymongo.readthedocs.io/en/stable/faq.html#is-pymongo-fork-safe\n",
      "  warnings.warn(\n",
      "/usr/lib/python3/dist-packages/pymongo/topology.py:161: UserWarning: MongoClient opened before fork. Create MongoClient only after forking. See PyMongo's documentation for details: https://pymongo.readthedocs.io/en/stable/faq.html#is-pymongo-fork-safe\n",
      "  warnings.warn(\n",
      "/usr/lib/python3/dist-packages/pymongo/topology.py:161: UserWarning: MongoClient opened before fork. Create MongoClient only after forking. See PyMongo's documentation for details: https://pymongo.readthedocs.io/en/stable/faq.html#is-pymongo-fork-safe\n",
      "  warnings.warn(\n",
      "/usr/lib/python3/dist-packages/pymongo/topology.py:161: UserWarning: MongoClient opened before fork. Create MongoClient only after forking. See PyMongo's documentation for details: https://pymongo.readthedocs.io/en/stable/faq.html#is-pymongo-fork-safe\n",
      "  warnings.warn(\n",
      "/usr/lib/python3/dist-packages/pymongo/topology.py:161: UserWarning: MongoClient opened before fork. Create MongoClient only after forking. See PyMongo's documentation for details: https://pymongo.readthedocs.io/en/stable/faq.html#is-pymongo-fork-safe\n",
      "  warnings.warn(\n",
      "/usr/lib/python3/dist-packages/pymongo/topology.py:161: UserWarning: MongoClient opened before fork. Create MongoClient only after forking. See PyMongo's documentation for details: https://pymongo.readthedocs.io/en/stable/faq.html#is-pymongo-fork-safe\n",
      "  warnings.warn(\n",
      "/usr/lib/python3/dist-packages/pymongo/topology.py:161: UserWarning: MongoClient opened before fork. Create MongoClient only after forking. See PyMongo's documentation for details: https://pymongo.readthedocs.io/en/stable/faq.html#is-pymongo-fork-safe\n",
      "  warnings.warn(\n",
      "/usr/lib/python3/dist-packages/pymongo/topology.py:161: UserWarning: MongoClient opened before fork. Create MongoClient only after forking. See PyMongo's documentation for details: https://pymongo.readthedocs.io/en/stable/faq.html#is-pymongo-fork-safe\n",
      "  warnings.warn(\n",
      "/usr/lib/python3/dist-packages/pymongo/topology.py:161: UserWarning: MongoClient opened before fork. Create MongoClient only after forking. See PyMongo's documentation for details: https://pymongo.readthedocs.io/en/stable/faq.html#is-pymongo-fork-safe\n",
      "  warnings.warn(\n",
      "/usr/lib/python3/dist-packages/pymongo/topology.py:161: UserWarning: MongoClient opened before fork. Create MongoClient only after forking. See PyMongo's documentation for details: https://pymongo.readthedocs.io/en/stable/faq.html#is-pymongo-fork-safe\n",
      "  warnings.warn(\n",
      "[Parallel(n_jobs=11)]: Done   2 out of  11 | elapsed:  9.6min remaining: 43.2min\n",
      "[Parallel(n_jobs=11)]: Done   4 out of  11 | elapsed:  9.9min remaining: 17.3min\n",
      "[Parallel(n_jobs=11)]: Done   6 out of  11 | elapsed: 10.2min remaining:  8.5min\n",
      "[Parallel(n_jobs=11)]: Done   8 out of  11 | elapsed: 10.4min remaining:  3.9min\n"
     ]
    },
    {
     "name": "stdout",
     "output_type": "stream",
     "text": [
      "CPU times: user 185 ms, sys: 106 ms, total: 291 ms\n",
      "Wall time: 10min 48s\n"
     ]
    },
    {
     "name": "stderr",
     "output_type": "stream",
     "text": [
      "[Parallel(n_jobs=11)]: Done  11 out of  11 | elapsed: 10.8min finished\n"
     ]
    }
   ],
   "source": [
    "%%time\n",
    "h_scores = Parallel(n_jobs=11,backend=\"multiprocessing\",verbose=10)(delayed(process_h_index_year)(year) for year in range(2013,2024))"
   ]
  },
  {
   "cell_type": "code",
   "execution_count": 7,
   "id": "3092df35",
   "metadata": {},
   "outputs": [
    {
     "name": "stdout",
     "output_type": "stream",
     "text": [
      "2013 = 0 / 2324\n",
      "2014 = 0 / 2167\n",
      "2015 = 0 / 2468\n",
      "2016 = 0 / 2691\n",
      "2017 = 0 / 2779\n",
      "2018 = 0 / 2645\n",
      "2019 = 0 / 3179\n",
      "2020 = 0 / 3354\n",
      "2021 = 0 / 3552\n",
      "2022 = 0 / 2955\n",
      "2023 = 0 / 3172\n"
     ]
    }
   ],
   "source": [
    "# 2013 = 337 / 1425\n",
    "# 2014 = 252 / 1366\n",
    "# 2015 = 318 / 1513\n",
    "# 2016 = 237 / 1573\n",
    "# 2017 = 322 / 1720\n",
    "# 2018 = 282 / 1781\n",
    "# 2019 = 320 / 1886\n",
    "# 2020 = 389 / 2163\n",
    "# 2021 = 370 / 2176\n",
    "# 2022 = 465 / 2240\n",
    "# 2023 = 496 / 2011\n",
    "\n",
    "for i in scores:\n",
    "    data = np.array(i[\"score\"])\n",
    "    nans = np.count_nonzero(np.isnan(data))\n",
    "    print(f\"{i['year']} = {nans} / {len(data)}\")\n"
   ]
  },
  {
   "cell_type": "code",
   "execution_count": 8,
   "id": "bb1e8fa1",
   "metadata": {},
   "outputs": [
    {
     "name": "stdout",
     "output_type": "stream",
     "text": [
      "2013 = 0 / 2324\n",
      "2014 = 0 / 2167\n",
      "2015 = 0 / 2468\n",
      "2016 = 0 / 2691\n",
      "2017 = 0 / 2779\n",
      "2018 = 0 / 2645\n",
      "2019 = 0 / 3179\n",
      "2020 = 0 / 3354\n",
      "2021 = 0 / 3552\n",
      "2022 = 0 / 2955\n",
      "2023 = 0 / 3172\n"
     ]
    }
   ],
   "source": [
    "for i in h_scores:\n",
    "    h_data = np.array(i[\"h_score\"])\n",
    "    h_nans = np.count_nonzero(np.isnan(h_data))\n",
    "    print(f\"{i['year']} = {h_nans} / {len(h_data)}\")\n"
   ]
  },
  {
   "cell_type": "code",
   "execution_count": 9,
   "id": "d311343b-a0d6-426f-a15e-0c431e0e3b70",
   "metadata": {},
   "outputs": [
    {
     "name": "stdout",
     "output_type": "stream",
     "text": [
      "year = 2013\n",
      "min  = -1.0\n",
      "max  = 12.41\n",
      "----------\n",
      "year = 2014\n",
      "min  = -1.0\n",
      "max  = 19.69\n",
      "----------\n",
      "year = 2015\n",
      "min  = -1.0\n",
      "max  = 12.41\n",
      "----------\n",
      "year = 2016\n",
      "min  = -1.0\n",
      "max  = 12.41\n",
      "----------\n",
      "year = 2017\n",
      "min  = -1.0\n",
      "max  = 19.69\n",
      "----------\n",
      "year = 2018\n",
      "min  = -1.0\n",
      "max  = 19.69\n",
      "----------\n",
      "year = 2019\n",
      "min  = -1.0\n",
      "max  = 19.69\n",
      "----------\n",
      "year = 2020\n",
      "min  = -1.0\n",
      "max  = 12.41\n",
      "----------\n",
      "year = 2021\n",
      "min  = -1.0\n",
      "max  = 12.41\n",
      "----------\n",
      "year = 2022\n",
      "min  = -1.0\n",
      "max  = 19.69\n",
      "----------\n",
      "year = 2023\n",
      "min  = -1.0\n",
      "max  = 19.69\n",
      "----------\n"
     ]
    }
   ],
   "source": [
    "for score in scores:\n",
    "    print(f\"year = {score['year']}\")\n",
    "    print(f\"min  = {np.min(score['score'])}\")\n",
    "    print(f\"max  = {np.max(score['score'])}\")\n",
    "    print(\"-\"*10)\n",
    "    "
   ]
  },
  {
   "cell_type": "code",
   "execution_count": 10,
   "id": "bb43e5e1",
   "metadata": {},
   "outputs": [
    {
     "name": "stdout",
     "output_type": "stream",
     "text": [
      "year = 2013\n",
      "min  = 0\n",
      "max  = 1283\n",
      "----------\n",
      "year = 2014\n",
      "min  = 0\n",
      "max  = 1331\n",
      "----------\n",
      "year = 2015\n",
      "min  = 0\n",
      "max  = 1283\n",
      "----------\n",
      "year = 2016\n",
      "min  = 0\n",
      "max  = 1283\n",
      "----------\n",
      "year = 2017\n",
      "min  = 0\n",
      "max  = 1331\n",
      "----------\n",
      "year = 2018\n",
      "min  = 0\n",
      "max  = 1331\n",
      "----------\n",
      "year = 2019\n",
      "min  = 0\n",
      "max  = 1331\n",
      "----------\n",
      "year = 2020\n",
      "min  = 0\n",
      "max  = 1283\n",
      "----------\n",
      "year = 2021\n",
      "min  = 0\n",
      "max  = 1283\n",
      "----------\n",
      "year = 2022\n",
      "min  = 0\n",
      "max  = 1331\n",
      "----------\n",
      "year = 2023\n",
      "min  = 0\n",
      "max  = 1331\n",
      "----------\n"
     ]
    }
   ],
   "source": [
    "for h_score in h_scores:\n",
    "    print(f\"year = {h_score['year']}\")\n",
    "    print(f\"min  = {np.min(h_score['h_score'])}\")\n",
    "    print(f\"max  = {np.max(h_score['h_score'])}\")\n",
    "    print(\"-\"*10)"
   ]
  },
  {
   "cell_type": "code",
   "execution_count": 11,
   "id": "9f16ff8c",
   "metadata": {},
   "outputs": [],
   "source": [
    "for i in range(len(scores)):\n",
    "    x = np.array(scores[i][\"score\"])\n",
    "    scores[i][\"score\"] = x[~np.isnan(x)]\n",
    " "
   ]
  },
  {
   "cell_type": "code",
   "execution_count": 12,
   "id": "c341b4ea",
   "metadata": {},
   "outputs": [],
   "source": [
    "for i in range(len(h_scores)):\n",
    "    y = np.array(h_scores[i][\"h_score\"])\n",
    "    h_scores[i][\"h_score\"] = y[~np.isnan(y)]\n",
    " "
   ]
  },
  {
   "cell_type": "code",
   "execution_count": 13,
   "id": "0adced22-1735-42d6-8404-b905c01d22e1",
   "metadata": {},
   "outputs": [
    {
     "data": {
      "text/plain": [
       "{' 0  <= JSR < 2 ': [1407,\n",
       "  1309,\n",
       "  1477,\n",
       "  1586,\n",
       "  1581,\n",
       "  1493,\n",
       "  1752,\n",
       "  1909,\n",
       "  1976,\n",
       "  1611,\n",
       "  1462],\n",
       " ' 2  <= JSR < 5 ': [465, 454, 521, 573, 733, 687, 816, 764, 831, 605, 692],\n",
       " ' 5 <= JSR < 10 ': [24, 11, 18, 28, 26, 32, 34, 30, 56, 49, 48],\n",
       " ' 10  <= JSR < 20 ': [0, 2, 0, 0, 2, 2, 2, 0, 0, 2, 10],\n",
       " ' JSR >= 20 ': [0, 0, 0, 0, 0, 0, 0, 0, 0, 0, 0]}"
      ]
     },
     "execution_count": 13,
     "metadata": {},
     "output_type": "execute_result"
    }
   ],
   "source": [
    "thold=200\n",
    "years = []\n",
    "payload = {}\n",
    "#payload[\"papers\"]=[]\n",
    "payload[f\" 0  <= JSR < 2 \"]=[]\n",
    "payload[f\" 2  <= JSR < 5 \"]=[]\n",
    "payload[f\" 5 <= JSR < 10 \"]=[]\n",
    "payload[f\" 10  <= JSR < 20 \"]=[]\n",
    "payload[f\" JSR >= 20 \"]=[]\n",
    "\n",
    "\n",
    "\n",
    "for score in scores:\n",
    "    years.append(str(score[\"year\"]))\n",
    "    #payload[\"papers\"].append(score[\"data_len\"])\n",
    "    counter = {}\n",
    "    counter[f\" 0  <= JSR < 2 \"]=0\n",
    "    counter[f\" 2  <= JSR < 5 \"]=0\n",
    "    counter[f\" 5 <= JSR < 10 \"]=0\n",
    "    counter[f\" 10  <= JSR < 20 \"]=0\n",
    "    counter[f\" JSR >= 20 \"]=0\n",
    "\n",
    "    for i in score['score']:\n",
    "        if i >= 0 and i < 1 :\n",
    "            counter[f\" 0  <= JSR < 2 \"] += 1\n",
    "        if i >= 1 and i < 5:\n",
    "            counter[f\" 2  <= JSR < 5 \"] += 1\n",
    "        if i >= 5  and i < 15:\n",
    "            counter[f\" 5 <= JSR < 10 \"] += 1\n",
    "        if i >=15 and i < 20:\n",
    "            counter[f\" 10  <= JSR < 20 \"] += 1\n",
    "        if i>=20:\n",
    "            counter[f\" JSR >= 20 \"] += 1\n",
    "            \n",
    "    payload[f\" 0  <= JSR < 2 \"].append(counter[f\" 0  <= JSR < 2 \"])\n",
    "    payload[f\" 2  <= JSR < 5 \"].append(counter[f\" 2  <= JSR < 5 \"])\n",
    "    payload[f\" 5 <= JSR < 10 \"].append(counter[f\" 5 <= JSR < 10 \"])\n",
    "    payload[f\" 10  <= JSR < 20 \"].append(counter[f\" 10  <= JSR < 20 \"])\n",
    "    payload[f\" JSR >= 20 \"].append(counter[f\" JSR >= 20 \"])\n",
    "payload"
   ]
  },
  {
   "cell_type": "code",
   "execution_count": 14,
   "id": "533a533e",
   "metadata": {},
   "outputs": [
    {
     "data": {
      "text/plain": [
       "{' 0  <= H index < 20 ': [1047,\n",
       "  875,\n",
       "  1028,\n",
       "  1158,\n",
       "  964,\n",
       "  840,\n",
       "  981,\n",
       "  906,\n",
       "  904,\n",
       "  846,\n",
       "  1058],\n",
       " ' 20  <= H index < 50 ': [231,\n",
       "  323,\n",
       "  315,\n",
       "  381,\n",
       "  438,\n",
       "  435,\n",
       "  482,\n",
       "  504,\n",
       "  639,\n",
       "  579,\n",
       "  555],\n",
       " ' 50 <= H index < 100 ': [387,\n",
       "  372,\n",
       "  428,\n",
       "  433,\n",
       "  477,\n",
       "  511,\n",
       "  707,\n",
       "  819,\n",
       "  853,\n",
       "  652,\n",
       "  683],\n",
       " ' 100  <= H index < 200 ': [436,\n",
       "  398,\n",
       "  471,\n",
       "  467,\n",
       "  555,\n",
       "  584,\n",
       "  619,\n",
       "  732,\n",
       "  757,\n",
       "  575,\n",
       "  569],\n",
       " ' H index >= 200 ': [223, 199, 226, 252, 345, 275, 390, 393, 399, 303, 307]}"
      ]
     },
     "execution_count": 14,
     "metadata": {},
     "output_type": "execute_result"
    }
   ],
   "source": [
    "thold=200\n",
    "h_years = []\n",
    "h_payload = {}\n",
    "#payload[\"papers\"]=[]\n",
    "h_payload[f\" 0  <= H index < 20 \"]=[]\n",
    "h_payload[f\" 20  <= H index < 50 \"]=[]\n",
    "h_payload[f\" 50 <= H index < 100 \"]=[]\n",
    "h_payload[f\" 100  <= H index < 200 \"]=[]\n",
    "h_payload[f\" H index >= 200 \"]=[]\n",
    "\n",
    "\n",
    "\n",
    "for h_score in h_scores:\n",
    "    h_years.append(str(h_score[\"year\"]))\n",
    "    #payload[\"papers\"].append(score[\"data_len\"])\n",
    "    h_counter = {}\n",
    "    h_counter[f\" 0  <= H index < 20 \"]=0\n",
    "    h_counter[f\" 20  <= H index < 50 \"]=0\n",
    "    h_counter[f\" 50 <= H index < 100 \"]=0\n",
    "    h_counter[f\" 100  <= H index < 200 \"]=0\n",
    "    h_counter[f\" H index >= 200 \"]=0\n",
    "\n",
    "    for i in h_score['h_score']:\n",
    "        if i >= 0 and i < 20 :\n",
    "            h_counter[f\" 0  <= H index < 20 \"] += 1\n",
    "        if i >= 20 and i < 50:\n",
    "            h_counter[f\" 20  <= H index < 50 \"] += 1\n",
    "        if i >= 50  and i < 100:\n",
    "            h_counter[f\" 50 <= H index < 100 \"] += 1\n",
    "        if i >=100 and i < 200:\n",
    "            h_counter[f\" 100  <= H index < 200 \"] += 1\n",
    "        if i >= 200:\n",
    "            h_counter[f\" H index >= 200 \"] += 1\n",
    "            \n",
    "    h_payload[f\" 0  <= H index < 20 \"].append(h_counter[f\" 0  <= H index < 20 \"])\n",
    "    h_payload[f\" 20  <= H index < 50 \"].append(h_counter[f\" 20  <= H index < 50 \"])\n",
    "    h_payload[f\" 50 <= H index < 100 \"].append(h_counter[f\" 50 <= H index < 100 \"])\n",
    "    h_payload[f\" 100  <= H index < 200 \"].append(h_counter[f\" 100  <= H index < 200 \"])\n",
    "    h_payload[f\" H index >= 200 \"].append(h_counter[f\" H index >= 200 \"])\n",
    "h_payload"
   ]
  },
  {
   "cell_type": "code",
   "execution_count": 2,
   "id": "63810829-de21-44ce-a16e-8d04ab6f3d7c",
   "metadata": {},
   "outputs": [
    {
     "ename": "NameError",
     "evalue": "name 'plt' is not defined",
     "output_type": "error",
     "traceback": [
      "\u001b[0;31m---------------------------------------------------------------------------\u001b[0m",
      "\u001b[0;31mNameError\u001b[0m                                 Traceback (most recent call last)",
      "Cell \u001b[0;32mIn[2], line 4\u001b[0m\n\u001b[1;32m      1\u001b[0m width \u001b[38;5;241m=\u001b[39m \u001b[38;5;241m0.8\u001b[39m  \u001b[38;5;66;03m# the width of the bars: can also be len(x) sequence\u001b[39;00m\n\u001b[0;32m----> 4\u001b[0m fig, ax \u001b[38;5;241m=\u001b[39m \u001b[43mplt\u001b[49m\u001b[38;5;241m.\u001b[39msubplots(figsize\u001b[38;5;241m=\u001b[39m(\u001b[38;5;241m10\u001b[39m, \u001b[38;5;241m5\u001b[39m))\n\u001b[1;32m      5\u001b[0m bottom \u001b[38;5;241m=\u001b[39m np\u001b[38;5;241m.\u001b[39mzeros(\u001b[38;5;241m11\u001b[39m)\n\u001b[1;32m      7\u001b[0m \u001b[38;5;28;01mfor\u001b[39;00m title, count \u001b[38;5;129;01min\u001b[39;00m payload\u001b[38;5;241m.\u001b[39mitems():\n",
      "\u001b[0;31mNameError\u001b[0m: name 'plt' is not defined"
     ]
    }
   ],
   "source": [
    "\n",
    "width = 0.8  # the width of the bars: can also be len(x) sequence\n",
    "\n",
    "\n",
    "fig, ax = plt.subplots(figsize=(10, 5))\n",
    "bottom = np.zeros(11)\n",
    "\n",
    "for title, count in payload.items():\n",
    "    p = ax.bar(years, count, width, label=title, bottom=bottom)\n",
    "    bottom += count\n",
    "\n",
    "    ax.bar_label(p, label_type='center')\n",
    "\n",
    "ax.set_title('Number high quality paper')\n",
    "\n",
    "ax.legend()\n",
    "\n",
    "plt.show()"
   ]
  },
  {
   "cell_type": "code",
   "execution_count": 3,
   "id": "d4f0ab0a",
   "metadata": {},
   "outputs": [
    {
     "ename": "NameError",
     "evalue": "name 'plt' is not defined",
     "output_type": "error",
     "traceback": [
      "\u001b[0;31m---------------------------------------------------------------------------\u001b[0m",
      "\u001b[0;31mNameError\u001b[0m                                 Traceback (most recent call last)",
      "Cell \u001b[0;32mIn[3], line 4\u001b[0m\n\u001b[1;32m      1\u001b[0m width \u001b[38;5;241m=\u001b[39m \u001b[38;5;241m0.8\u001b[39m  \u001b[38;5;66;03m# the width of the bars: can also be len(x) sequence\u001b[39;00m\n\u001b[0;32m----> 4\u001b[0m fig, ay \u001b[38;5;241m=\u001b[39m \u001b[43mplt\u001b[49m\u001b[38;5;241m.\u001b[39msubplots(figsize\u001b[38;5;241m=\u001b[39m(\u001b[38;5;241m10\u001b[39m, \u001b[38;5;241m5\u001b[39m))\n\u001b[1;32m      5\u001b[0m bottom \u001b[38;5;241m=\u001b[39m np\u001b[38;5;241m.\u001b[39mzeros(\u001b[38;5;241m11\u001b[39m)\n\u001b[1;32m      7\u001b[0m \u001b[38;5;28;01mfor\u001b[39;00m title, h_count \u001b[38;5;129;01min\u001b[39;00m h_payload\u001b[38;5;241m.\u001b[39mitems():\n",
      "\u001b[0;31mNameError\u001b[0m: name 'plt' is not defined"
     ]
    }
   ],
   "source": [
    "\n",
    "width = 0.8  # the width of the bars: can also be len(x) sequence\n",
    "\n",
    "\n",
    "fig, ay = plt.subplots(figsize=(10, 5))\n",
    "bottom = np.zeros(11)\n",
    "\n",
    "for title, h_count in h_payload.items():\n",
    "    h_p = ay.bar(h_years, h_count, width, label=title, bottom=bottom)\n",
    "    bottom += h_count\n",
    "\n",
    "    ay.bar_label(h_p, label_type='center')\n",
    "\n",
    "ay.set_title('Number high quality paper')\n",
    "ay.legend()\n",
    "\n",
    "plt.show()"
   ]
  },
  {
   "cell_type": "code",
   "execution_count": 17,
   "id": "d2d0181f-2ff7-45e3-9878-b11f76328771",
   "metadata": {},
   "outputs": [
    {
     "data": {
      "image/png": "[encoded data removed]",
      "text/plain": [
       "<Figure size 1000x500 with 1 Axes>"
      ]
     },
     "metadata": {},
     "output_type": "display_data"
    }
   ],
   "source": [
    "del payload[f\" 0  <= JSR < 2 \"]\n",
    "del payload[f\" 10  <= JSR < 20 \"]\n",
    "del payload[f\" JSR >= 20 \"]\n",
    "\n",
    "width = 0.8  # the width of the bars: can also be len(x) sequence\n",
    "\n",
    "\n",
    "fig, ax = plt.subplots(figsize=(10, 5))\n",
    "bottom = np.zeros(11)\n",
    "\n",
    "for title, count in payload.items():\n",
    "    p = ax.bar(years, count, width, label=title, bottom=bottom)\n",
    "    bottom += count\n",
    "\n",
    "    ax.bar_label(p, label_type='center')\n",
    "\n",
    "ax.set_title('Number high quality paper')\n",
    "ax.legend()\n",
    "\n",
    "plt.show()"
   ]
  },
  {
   "cell_type": "code",
   "execution_count": null,
   "id": "eed22a1e",
   "metadata": {},
   "outputs": [],
   "source": []
  },
  {
   "cell_type": "code",
   "execution_count": null,
   "id": "4d92306f-46e0-4604-ade0-5990dd02f1cb",
   "metadata": {},
   "outputs": [],
   "source": []
  },
  {
   "cell_type": "code",
   "execution_count": null,
   "id": "17f858bc-a76d-44b4-b806-a0f861a6bf62",
   "metadata": {},
   "outputs": [],
   "source": []
  },
  {
   "cell_type": "code",
   "execution_count": null,
   "id": "269e6d36-0b2e-47c1-be23-c514c61a93a4",
   "metadata": {},
   "outputs": [],
   "source": []
  }
 ],
 "metadata": {
  "kernelspec": {
   "display_name": "Python 3 (ipykernel)",
   "language": "python",
   "name": "python3"
  },
  "language_info": {
   "codemirror_mode": {
    "name": "ipython",
    "version": 3
   },
   "file_extension": ".py",
   "mimetype": "text/x-python",
   "name": "python",
   "nbconvert_exporter": "python",
   "pygments_lexer": "ipython3",
   "version": "3.11.6"
  }
 },
 "nbformat": 4,
 "nbformat_minor": 5
}
